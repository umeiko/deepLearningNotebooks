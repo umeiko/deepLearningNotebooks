{
 "cells": [
  {
   "cell_type": "markdown",
   "metadata": {},
   "source": [
    "# 现代循环神经网络\n",
    " 首先，读取时间机器数据集"
   ]
  },
  {
   "cell_type": "code",
   "execution_count": 1,
   "metadata": {},
   "outputs": [],
   "source": [
    "import torch\n",
    "from torch import nn\n",
    "from torch.nn import functional as F\n",
    "import matplotlib.pyplot as plt\n",
    "from tqdm.notebook import tqdm\n",
    "import funcs\n",
    "\n",
    "\n",
    "batch_size, num_steps = 32, 35\n",
    "num_hiddens = 512\n",
    "device = \"cuda:1\"\n",
    "train_iter, vocab = funcs.load_data_time_machine(batch_size, num_steps, token_type=\"char\")"
   ]
  },
  {
   "attachments": {},
   "cell_type": "markdown",
   "metadata": {},
   "source": [
    "## 门控循环单元（GRU）\n",
    "从零开始实现"
   ]
  },
  {
   "attachments": {},
   "cell_type": "markdown",
   "metadata": {},
   "source": [
    "### 网络参数\n",
    "重置门 $ R_t = \\sigma (X_t W_{xr} + H_{t-1}W_{hr}+b_r ) $\n",
    "\n",
    "更新门 $ Z_t = \\sigma (X_t W_{xz} + H_{t-1}W_{hz}+b_z ) $ \n",
    "\n",
    "候选隐状态 $ \\tilde{H_t} = tanh(X_{t}W_{xh} + (R_t \\odot H_{t-1}) W_{hh} + b_h ) $\n",
    "\n",
    "隐状态 $H_t = Z_t \\odot H_{t-1} + (1 - Z_t) \\odot \\tilde{H_t} $\n",
    "\n",
    "- 每当更新门 $Z_t$ 接近 $1$ 时，模型就倾向只保留旧状态。 此时，来自 $X_t$ 的信息基本上被忽略， 从而有效地跳过了依赖链条中的时间步 $t$ 。 相反，当 $Z_t$ 接近 $0$ 时， 新的隐状态 $H_t$ 就会接近候选隐状态 $\\tilde{H_t}$ 。"
   ]
  },
  {
   "cell_type": "code",
   "execution_count": 3,
   "metadata": {},
   "outputs": [],
   "source": [
    "# 获取初始参数：Wxr, Whr, br, Wxz, Whz, bz, Wxh, Whh, bh\n",
    "def get_gru_params(embed_size:int, num_hiddens:int, device:str):\n",
    "    \"\"\"获取GRU中的所有参数:\n",
    "    `W_xz, W_hz, b_z, W_xr, W_hr, b_r, W_xh, W_hh, b_h, W_hq, b_q`\n",
    "    \"\"\"\n",
    "    num_inputs = num_outputs = embed_size\n",
    "    def wwb():\n",
    "        return (torch.randn((num_inputs, num_hiddens), device=device)/100,\n",
    "                torch.randn((num_hiddens, num_hiddens), device=device)/100,\n",
    "                torch.zeros((num_hiddens), device=device),\n",
    "        )\n",
    "    W_xz, W_hz, b_z = wwb()\n",
    "    W_xr, W_hr, b_r = wwb()\n",
    "    W_xh, W_hh, b_h = wwb()\n",
    "    W_hq = torch.randn((num_hiddens, num_outputs), device=device)/100\n",
    "    b_q  = torch.zeros((num_outputs), device=device)\n",
    "    params = [W_xz, W_hz, b_z, W_xr, W_hr, b_r, W_xh, W_hh, b_h, W_hq, b_q]\n",
    "    for param in params:\n",
    "        param.requires_grad_(True)\n",
    "    return params\n",
    "\n",
    "def init_gru_state(batch_size, num_hiddens, device):\n",
    "    \"\"\" 初始化隐变量 \"\"\"\n",
    "    return torch.zeros((batch_size, num_hiddens), device=device)"
   ]
  },
  {
   "cell_type": "code",
   "execution_count": 4,
   "metadata": {},
   "outputs": [],
   "source": [
    "def gru_forward(inputs, state, params):\n",
    "    W_xz, W_hz, b_z, W_xr, W_hr, b_r, W_xh, W_hh, b_h, W_hq, b_q = params\n",
    "    H = state\n",
    "    outputs = []\n",
    "    for x in inputs:\n",
    "        Z = torch.sigmoid((x @ W_xz) + (H @ W_hz) + b_z)\n",
    "        R = torch.sigmoid((x @ W_xr) + (H @ W_hr) + b_r)\n",
    "        H_tilda = torch.tanh((x @ W_xh) + ((R * H) @ W_hh) + b_h )\n",
    "        H = Z * H + (1 - Z) * H_tilda\n",
    "        Y = H @ W_hq + b_q\n",
    "        outputs.append(Y)\n",
    "    return torch.cat(outputs, dim=0), H"
   ]
  },
  {
   "cell_type": "code",
   "execution_count": 5,
   "metadata": {},
   "outputs": [
    {
     "data": {
      "text/plain": [
       "(torch.Size([10, 4598]), torch.Size([2, 512]))"
      ]
     },
     "execution_count": 5,
     "metadata": {},
     "output_type": "execute_result"
    }
   ],
   "source": [
    "para  = get_gru_params(len(vocab), num_hiddens, device)\n",
    "state = init_gru_state(2, num_hiddens, device)\n",
    "x     = torch.ones((5,2,len(vocab)), device=device, dtype=torch.float)\n",
    "\n",
    "y, state = gru_forward(x, state, para)\n",
    "y.shape, state.shape"
   ]
  },
  {
   "cell_type": "code",
   "execution_count": 6,
   "metadata": {},
   "outputs": [
    {
     "data": {
      "text/plain": [
       "'time contrived shouted necessity suffering doubt mathematical close mathematical culminating blinding reversing instinct tranquil diminishing sweeping desiccated part zero generations puzzle acquaintance tire played fecundity attracted simple mine hairless vertically notion decorations results arrears arrears fighting excitement behoves refused cemeteries clung clung slumbering clung slumbering disk tatters hairless vertically notion decorations '"
      ]
     },
     "execution_count": 6,
     "metadata": {},
     "output_type": "execute_result"
    }
   ],
   "source": [
    "gru = funcs.RNN(\n",
    "    len(vocab), num_hiddens, device, get_gru_params, init_gru_state, gru_forward\n",
    ")\n",
    "funcs.rnn_predict(\"time \", 50, gru, vocab, device, True)"
   ]
  },
  {
   "cell_type": "code",
   "execution_count": 10,
   "metadata": {},
   "outputs": [
    {
     "data": {
      "application/vnd.jupyter.widget-view+json": {
       "model_id": "aca4304e50bc43f5ba2f493593c3ce48",
       "version_major": 2,
       "version_minor": 0
      },
      "text/plain": [
       "  0%|          | 0/1000 [00:00<?, ?it/s]"
      ]
     },
     "metadata": {},
     "output_type": "display_data"
    },
    {
     "name": "stdout",
     "output_type": "stream",
     "text": [
      "困惑度[1.47], 速度[12264.2 词元/秒], 设备[cuda:1]\n",
      "time traveller came to the place reserved for him without a word he smiled quietly in his old way where s my mutton he said what a treat it is to stick a fork into meat again story cried the editor story be damned said the time traveller i want something to \n",
      "traveller it s against reason said filby what reason said the time traveller you can show black is white by argument said filby but you will never convince me possibly not said the time traveller but now you begin to see the object of my investigations into the geometry of four \n"
     ]
    },
    {
     "data": {
      "text/plain": [
       "<matplotlib.legend.Legend at 0x7f2c57527c10>"
      ]
     },
     "execution_count": 10,
     "metadata": {},
     "output_type": "execute_result"
    },
    {
     "data": {
      "image/png": "[encoded data removed]",
      "text/plain": [
       "<Figure size 640x480 with 1 Axes>"
      ]
     },
     "metadata": {},
     "output_type": "display_data"
    }
   ],
   "source": [
    "num_epochs = 1000\n",
    "num_hiddens = 1024\n",
    "lr = 9e-1\n",
    "gru = funcs.RNN(\n",
    "    len(vocab), num_hiddens, device, get_gru_params, init_gru_state, gru_forward\n",
    ")\n",
    "opt = torch.optim.SGD(gru.parameters(), lr, momentum=0.9)\n",
    "# opt = torch.optim.Adam(gru.parameters(), lr)\n",
    "ppls = funcs.train_rnn(gru, num_epochs, train_iter, opt, device, tqdm)\n",
    "pred_fn = lambda prefix: funcs.rnn_predict(prefix, 50, gru, vocab, device, True)\n",
    "print(pred_fn('time traveller'))\n",
    "print(pred_fn('traveller'))\n",
    "\n",
    "plt.xlabel(\"Epoch\")\n",
    "plt.ylabel(\"Perplexity\")\n",
    "plt.plot(ppls)\n",
    "plt.legend([\"train\"])"
   ]
  },
  {
   "cell_type": "markdown",
   "metadata": {},
   "source": [
    "### 使用高级API实现"
   ]
  },
  {
   "cell_type": "code",
   "execution_count": 17,
   "metadata": {},
   "outputs": [],
   "source": [
    "class RNN_(nn.Module):\n",
    "    def __init__(self, layer:nn.RNN, device=\"cuda:1\"):\n",
    "        super().__init__()\n",
    "        self.device = device\n",
    "        self.layer = layer\n",
    "        self.out_layer = nn.Linear(layer.hidden_size, layer.input_size, device=device)\n",
    "    \n",
    "    def forward(self, x:torch.Tensor, state:torch.Tensor):\n",
    "        x = x.long().to(self.device)\n",
    "        x = F.one_hot(x, self.layer.input_size).to(torch.float)\n",
    "        y, state = self.layer(x, state)\n",
    "        # y:[t,b,embed]  ->  [t*b, embed]\n",
    "        out = self.out_layer(y.reshape((-1, self.layer.hidden_size)))\n",
    "        return out, state\n",
    "    \n",
    "    def begin_state(self, batch_size:int, device:str):\n",
    "        if isinstance(self.layer, nn.LSTM):\n",
    "            return (torch.zeros((1, batch_size, num_hiddens), device=device),\n",
    "            torch.zeros((1, batch_size, num_hiddens), device=device))\n",
    "        else:\n",
    "            return torch.zeros((1, batch_size, self.layer.hidden_size), \n",
    "                            dtype=torch.float, device=device)\n",
    "\n",
    "        "
   ]
  },
  {
   "cell_type": "code",
   "execution_count": 5,
   "metadata": {},
   "outputs": [
    {
     "data": {
      "application/vnd.jupyter.widget-view+json": {
       "model_id": "d2659e300fec44b5bf0d25a2684e6f45",
       "version_major": 2,
       "version_minor": 0
      },
      "text/plain": [
       "  0%|          | 0/1000 [00:00<?, ?it/s]"
      ]
     },
     "metadata": {},
     "output_type": "display_data"
    },
    {
     "name": "stdout",
     "output_type": "stream",
     "text": [
      "困惑度[1.22], 速度[491010.5 词元/秒], 设备[cuda:1]\n",
      "time traveller but now you begin to see theobject of my investigations into the geometry of four dimensions longag\n",
      "traveller but now you begin to see theobject of my investigations into the geometry of four dimensions longag\n"
     ]
    },
    {
     "data": {
      "text/plain": [
       "<matplotlib.legend.Legend at 0x7f5a75dd5900>"
      ]
     },
     "execution_count": 5,
     "metadata": {},
     "output_type": "execute_result"
    },
    {
     "data": {
      "image/png": "[encoded data removed]",
      "text/plain": [
       "<Figure size 640x480 with 1 Axes>"
      ]
     },
     "metadata": {},
     "output_type": "display_data"
    }
   ],
   "source": [
    "num_epochs = 1000\n",
    "num_hiddens = 256\n",
    "lr = 1\n",
    "\n",
    "gru_layer = nn.GRU(len(vocab), num_hiddens, device=device, batch_first=True)\n",
    "model = RNN_(gru_layer, device=device)\n",
    "\n",
    "opt = torch.optim.SGD(model.parameters(), lr, momentum=0.9)\n",
    "# opt = torch.optim.Adam(gru.parameters(), lr)\n",
    "ppls = funcs.train_rnn(model, num_epochs, train_iter, opt, device, tqdm, batch_first=True)\n",
    "pred_fn = lambda prefix: funcs.rnn_predict(prefix, 100, model, vocab, device, add_blank=False)\n",
    "print(pred_fn('time traveller'))\n",
    "print(pred_fn('traveller'))\n",
    "\n",
    "plt.xlabel(\"Epoch\")\n",
    "plt.ylabel(\"Perplexity\")\n",
    "plt.plot(ppls)\n",
    "plt.legend([\"train\"])"
   ]
  },
  {
   "attachments": {},
   "cell_type": "markdown",
   "metadata": {},
   "source": [
    "### GRU小结\n",
    "- 门控循环神经网络可以更好地捕获时间步距离很长的序列上的依赖关系。\n",
    "- 重置门有助于捕获序列中的短期依赖关系。\n",
    "- 更新门有助于捕获序列中的长期依赖关系。\n",
    "- 重置门打开时，门控循环单元包含基本循环神经网络；更新门打开时，门控循环单元可以跳过子序列。"
   ]
  },
  {
   "attachments": {},
   "cell_type": "markdown",
   "metadata": {},
   "source": [
    "## 长短期记忆网络（LSTM）\n",
    "长期以来，隐变量模型存在着长期信息保存和短期输入缺失的问题。 解决这一问题的最早方法之一是长短期存储器（long short-term memory，LSTM）"
   ]
  },
  {
   "attachments": {},
   "cell_type": "markdown",
   "metadata": {},
   "source": [
    "假设有$h$个隐藏单元，批量大小为$n$，输入数为$d$。此时输入为$X_{t}\\in \\mathbb{R}^{n\\times d}$，前一时间步的隐状态为$H_{t-1}\\in \\mathbb{R}^{n\\times h}$。有如下的门：\n",
    "- 输入门 $I_t \\in \\mathbb{R}^{n\\times h}$\n",
    "    - $I_t = \\sigma (X_{t}W_{xi} + H_{t-1}W_{hi}+b_i)$\n",
    "- 遗忘门 $ F_t \\in \\mathbb{R}^{n\\times h} $\n",
    "    - $F_t = \\sigma (X_{t}W_{xf} + H_{t-1}W_{hf}+b_f)$\n",
    "- 输出门 $O_t \\in \\mathbb{R}^{n \\times h}$ \n",
    "    - $O_t = \\sigma (X_{t}W_{xo} + H_{t-1}W_{ho}+b_o)$\n",
    "\n",
    "其中 $W_{xi},W_{xf}, W_{xo} \\in \\mathbb{R}^{d \\times h}$；$W_{hi},W_{hf}, W_{ho} \\in \\mathbb{R}^{h \\times h}$；$b_{i},b_{f}, b_{o} \\in \\mathbb{R}^{1 \\times h}$\n",
    "\n",
    "- 候选记忆元 $ \\tilde{C_t} \\in \\mathbb{R}^{n \\times h}$\n",
    "    - $\\tilde{C_t}=tanh(X_{t}W_{xc}+H_{t-1}W_{hc}+b_{c})$,\n",
    "- 记忆元 $C_t \\in \\mathbb{R}^{n \\times h}$\n",
    "    - $C_t = F_t \\odot C_{t-1} + I_t \\odot \\tilde{C_t}$\n",
    "- 隐状态 $H_t \\in \\mathbb{R}^{n \\times h}$\n",
    "    - $H_t = O_t \\odot tanh(C_t)$\n",
    "\n",
    "只要输出门接近$1$，我们就能够有效地将所有记忆信息传递给预测部分， 而对于输出门接近$0$，我们只保留记忆元内的所有信息，而不需要更新隐状态。"
   ]
  },
  {
   "cell_type": "code",
   "execution_count": 2,
   "metadata": {},
   "outputs": [],
   "source": [
    "def get_lstm_params(vocab_size:int, num_hiddens:int, device:str):\n",
    "    \"\"\"获取lstm中的网络参数\"\"\"\n",
    "    num_inputs = num_outputs = vocab_size\n",
    "    normal = lambda shape: torch.randn(size=shape, device=device)*1e-2\n",
    "    wwb    = lambda : ( normal((num_inputs, num_hiddens)),\n",
    "                        normal((num_hiddens, num_hiddens)),\n",
    "                        torch.zeros(num_hiddens, device=device))\n",
    "    W_xi, W_hi, b_i = wwb()\n",
    "    W_xf, W_hf, b_f = wwb()\n",
    "    W_xo, W_ho, b_o = wwb()\n",
    "    W_xc, W_hc, b_c = wwb()\n",
    "    W_hq = normal((num_hiddens, num_outputs))\n",
    "    b_q = torch.zeros(num_outputs, device=device)\n",
    "\n",
    "    params = [W_xi, W_hi, b_i, W_xf, W_hf, b_f, W_xo, W_ho, b_o, W_xc, W_hc, b_c, W_hq, b_q]\n",
    "    for param in params:\n",
    "        param.requires_grad_(True)\n",
    "    return params"
   ]
  },
  {
   "cell_type": "code",
   "execution_count": 3,
   "metadata": {},
   "outputs": [],
   "source": [
    "def init_lstm_state(batch_size:int, num_hiddens:int, device:str):\n",
    "    \"\"\"lstm的隐变量, 包含记忆元和隐状态\"\"\"\n",
    "    return (torch.zeros((batch_size, num_hiddens), device=device),\n",
    "            torch.zeros((batch_size, num_hiddens), device=device))"
   ]
  },
  {
   "cell_type": "code",
   "execution_count": 4,
   "metadata": {},
   "outputs": [],
   "source": [
    "def lstm_forward(inputs:torch.Tensor, state:tuple[torch.Tensor,torch.Tensor], params:list):\n",
    "    W_xi, W_hi, b_i, W_xf, W_hf, b_f, W_xo, W_ho, b_o, W_xc, W_hc, b_c, W_hq, b_q = params\n",
    "    H, C = state\n",
    "    outputs = []\n",
    "    for X in inputs:\n",
    "        # print(X.shape, H.shape, C.shape)\n",
    "        I = torch.sigmoid((X @ W_xi) + (H @ W_hi) + b_i)\n",
    "        F = torch.sigmoid((X @ W_xf) + (H @ W_hf) + b_f)\n",
    "        O = torch.sigmoid((X @ W_xo) + (H @ W_ho) + b_o)\n",
    "        C_tilda = torch.sigmoid((X @ W_xc) + (H @ W_hc) + b_c)\n",
    "        C = F * C + I * C_tilda\n",
    "        H = O * torch.tanh(C)\n",
    "        Y = (H @ W_hq) + b_q\n",
    "        outputs.append(Y)\n",
    "    return torch.cat(outputs, dim=0), (H, C)\n"
   ]
  },
  {
   "cell_type": "code",
   "execution_count": 11,
   "metadata": {},
   "outputs": [
    {
     "data": {
      "application/vnd.jupyter.widget-view+json": {
       "model_id": "3215c94b2e8140f5909ba84087e3f723",
       "version_major": 2,
       "version_minor": 0
      },
      "text/plain": [
       "  0%|          | 0/900 [00:00<?, ?it/s]"
      ]
     },
     "metadata": {},
     "output_type": "display_data"
    },
    {
     "name": "stdout",
     "output_type": "stream",
     "text": [
      "困惑度[1.30], 速度[30475.3 词元/秒], 设备[cuda:1]\n",
      "time travellerit would be remarkably convenient for the historian the psychologistsuggested one might travel back and verify the accepted account ofthe battle of ha\n",
      "traveller s returnxvi after the storyepilogueiintroductionthe time traveller for so it will be convenient to speak of him wasexpounding a recondite matter to u\n"
     ]
    },
    {
     "data": {
      "text/plain": [
       "<matplotlib.legend.Legend at 0x7f885d1b8d90>"
      ]
     },
     "execution_count": 11,
     "metadata": {},
     "output_type": "execute_result"
    },
    {
     "data": {
      "image/png": "[encoded data removed]",
      "text/plain": [
       "<Figure size 640x480 with 1 Axes>"
      ]
     },
     "metadata": {},
     "output_type": "display_data"
    }
   ],
   "source": [
    "# batch_size, num_steps = 32, 35\n",
    "num_epochs, lr = 900, 9e-1\n",
    "device = \"cuda:1\"\n",
    "num_hiddens = 512\n",
    "\n",
    "# 初始化网络\n",
    "lstm = funcs.RNN(\n",
    "    len(vocab), num_hiddens, device, get_lstm_params, init_lstm_state, lstm_forward\n",
    ")\n",
    "opt = torch.optim.SGD(lstm.parameters(), lr, momentum=0.9)\n",
    "# opt = torch.optim.Adam(gru.parameters(), lr)\n",
    "ppls = funcs.train_rnn(lstm, num_epochs, train_iter, opt, device, tqdm)\n",
    "pred_fn = lambda prefix: funcs.rnn_predict(prefix, 150, lstm, vocab, device, False)\n",
    "print(pred_fn('time traveller'))\n",
    "print(pred_fn('traveller'))\n",
    "\n",
    "plt.xlabel(\"Epoch\")\n",
    "plt.ylabel(\"Perplexity\")\n",
    "plt.plot(ppls)\n",
    "plt.legend([\"train\"])"
   ]
  },
  {
   "attachments": {},
   "cell_type": "markdown",
   "metadata": {},
   "source": [
    "### 使用高级API实现"
   ]
  },
  {
   "cell_type": "code",
   "execution_count": 19,
   "metadata": {},
   "outputs": [
    {
     "data": {
      "application/vnd.jupyter.widget-view+json": {
       "model_id": "a1fbf47e520248e9ae85003515de3675",
       "version_major": 2,
       "version_minor": 0
      },
      "text/plain": [
       "  0%|          | 0/900 [00:00<?, ?it/s]"
      ]
     },
     "metadata": {},
     "output_type": "display_data"
    },
    {
     "name": "stdout",
     "output_type": "stream",
     "text": [
      "困惑度[1.24], 速度[140897.3 词元/秒], 设备[cuda:1]\n",
      "time traveller s returnxvi after the storyepilogueiintroductionthe time traveller for so it will be convenient to speak of him wasexpounding a recondite matter to u\n",
      "traveller proceeded anyreal body must have extension in four directions it must havelength breadth thickness and duration but through a naturalinfirmity of the\n"
     ]
    },
    {
     "data": {
      "text/plain": [
       "<matplotlib.legend.Legend at 0x7f8828335ea0>"
      ]
     },
     "execution_count": 19,
     "metadata": {},
     "output_type": "execute_result"
    },
    {
     "data": {
      "image/png": "[encoded data removed]",
      "text/plain": [
       "<Figure size 640x480 with 1 Axes>"
      ]
     },
     "metadata": {},
     "output_type": "display_data"
    }
   ],
   "source": [
    "# batch_size, num_steps = 32, 35\n",
    "num_epochs, lr = 900, 9e-1\n",
    "device = \"cuda:1\"\n",
    "num_hiddens = 512\n",
    "\n",
    "lstm_layer = nn.LSTM(len(vocab), num_hiddens, batch_first=True, device=device)\n",
    "lstm = RNN_(lstm_layer, device)\n",
    "\n",
    "opt = torch.optim.SGD(lstm.parameters(), lr, momentum=0.9)\n",
    "# opt = torch.optim.Adam(gru.parameters(), lr)\n",
    "ppls = funcs.train_rnn(lstm, num_epochs, train_iter, opt, device, tqdm, batch_first=True)\n",
    "pred_fn = lambda prefix: funcs.rnn_predict(prefix, 150, lstm, vocab, device, False)\n",
    "print(pred_fn('time traveller'))\n",
    "print(pred_fn('traveller'))\n",
    "\n",
    "plt.xlabel(\"Epoch\")\n",
    "plt.ylabel(\"Perplexity\")\n",
    "plt.plot(ppls)\n",
    "plt.legend([\"train\"])"
   ]
  },
  {
   "cell_type": "code",
   "execution_count": null,
   "metadata": {},
   "outputs": [],
   "source": []
  }
 ],
 "metadata": {
  "kernelspec": {
   "display_name": "Python 3.10.0 ('py310')",
   "language": "python",
   "name": "python3"
  },
  "language_info": {
   "codemirror_mode": {
    "name": "ipython",
    "version": 3
   },
   "file_extension": ".py",
   "mimetype": "text/x-python",
   "name": "python",
   "nbconvert_exporter": "python",
   "pygments_lexer": "ipython3",
   "version": "3.10.0 (default, Mar  3 2022, 09:58:08) [GCC 7.5.0]"
  },
  "orig_nbformat": 4,
  "vscode": {
   "interpreter": {
    "hash": "40d2cc74a804977258fca08641e7f8c71be122cbd2b1d46246183378bd8e471b"
   }
  }
 },
 "nbformat": 4,
 "nbformat_minor": 2
}
