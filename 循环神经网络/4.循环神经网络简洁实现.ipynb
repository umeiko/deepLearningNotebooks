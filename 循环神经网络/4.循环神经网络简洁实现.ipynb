{
 "cells": [
  {
   "cell_type": "markdown",
   "metadata": {},
   "source": [
    "# 利用 $PyTorch$ 中的接口直接建立循环神经网络"
   ]
  },
  {
   "cell_type": "code",
   "execution_count": 14,
   "metadata": {},
   "outputs": [],
   "source": [
    "%matplotlib inline\n",
    "import torch\n",
    "from torch import nn\n",
    "from torch.nn import functional as F\n",
    "from matplotlib_inline import backend_inline\n",
    "import funcs\n",
    "\n",
    "backend_inline.set_matplotlib_formats('svg')"
   ]
  },
  {
   "cell_type": "code",
   "execution_count": 25,
   "metadata": {},
   "outputs": [],
   "source": [
    "batch_size, num_steps = 32, 35\n",
    "train_iter, voacb = funcs.load_data_time_machine(batch_size, num_steps, token_type=\"char\")\n"
   ]
  },
  {
   "cell_type": "code",
   "execution_count": 30,
   "metadata": {},
   "outputs": [],
   "source": [
    "num_hiddens = 256\n",
    "rnn_layer = nn.RNN(28, num_hiddens)\n"
   ]
  },
  {
   "cell_type": "markdown",
   "metadata": {},
   "source": [
    "输入的形状：  $ (NumSteps, BatchSize, NumEmbedding) $ \n",
    "\n",
    "隐藏层的形状：$ (NumLayers, BatchSize, NumHiddens) $ \n",
    "\n",
    "注意, $nn.RNN$ 仅构建了输入层与隐藏层，输出层需要额外构建。 "
   ]
  },
  {
   "cell_type": "code",
   "execution_count": 31,
   "metadata": {},
   "outputs": [
    {
     "data": {
      "text/plain": [
       "(torch.Size([35, 32, 256]), torch.Size([1, 32, 256]))"
      ]
     },
     "execution_count": 31,
     "metadata": {},
     "output_type": "execute_result"
    }
   ],
   "source": [
    "x = torch.randn((num_steps, batch_size, 28))\n",
    "state = torch.randn((1, batch_size, num_hiddens))\n",
    "\n",
    "y, new_state = rnn_layer(x, state)\n",
    "y.shape, new_state.shape"
   ]
  },
  {
   "cell_type": "code",
   "execution_count": null,
   "metadata": {},
   "outputs": [],
   "source": [
    "\n",
    "\n",
    "class RNN(nn.Module):\n",
    "    def __init__(self, layer:nn.RNN):\n",
    "        super().__init__()\n",
    "        self.layer = layer\n",
    "        self.out_layer = nn.Linear(layer.hidden_size, layer.input_size)\n",
    "    \n",
    "    def forward(self, x:torch.tensor, state:torch.tensor):\n",
    "        x = F.one_hot(x, self.layer.input_size)\n",
    "        x, state = self.layer(x, state)\n",
    "        out = self.out_layer(x)\n",
    "        return out, state\n",
    "        "
   ]
  },
  {
   "cell_type": "code",
   "execution_count": null,
   "metadata": {},
   "outputs": [],
   "source": [
    "funcs.rnn_predict(\"time traveller \", 50, rnn_layer, voacb, \"cuda:0\")"
   ]
  },
  {
   "cell_type": "code",
   "execution_count": 26,
   "metadata": {},
   "outputs": [
    {
     "name": "stdout",
     "output_type": "stream",
     "text": [
      "torch.Size([32, 35, 28]) torch.Size([32, 35])\n",
      "torch.Size([32, 35, 28]) torch.Size([32, 35])\n",
      "torch.Size([32, 35, 28]) torch.Size([32, 35])\n",
      "torch.Size([32, 35, 28]) torch.Size([32, 35])\n",
      "torch.Size([32, 35, 28]) torch.Size([32, 35])\n",
      "torch.Size([32, 35, 28]) torch.Size([32, 35])\n",
      "torch.Size([32, 35, 28]) torch.Size([32, 35])\n",
      "torch.Size([32, 35, 28]) torch.Size([32, 35])\n"
     ]
    }
   ],
   "source": [
    "for x, y in train_iter:\n",
    "    x = torch.tensor(x)\n",
    "    y = torch.tensor(y)\n",
    "    x = F.one_hot(x, len(voacb))\n",
    "    print(x.shape, y.shape)\n",
    "    \n",
    "    "
   ]
  },
  {
   "cell_type": "code",
   "execution_count": null,
   "metadata": {},
   "outputs": [],
   "source": []
  }
 ],
 "metadata": {
  "kernelspec": {
   "display_name": "Python 3.10.0 ('py310')",
   "language": "python",
   "name": "python3"
  },
  "language_info": {
   "codemirror_mode": {
    "name": "ipython",
    "version": 3
   },
   "file_extension": ".py",
   "mimetype": "text/x-python",
   "name": "python",
   "nbconvert_exporter": "python",
   "pygments_lexer": "ipython3",
   "version": "3.10.0"
  },
  "orig_nbformat": 4,
  "vscode": {
   "interpreter": {
    "hash": "40d2cc74a804977258fca08641e7f8c71be122cbd2b1d46246183378bd8e471b"
   }
  }
 },
 "nbformat": 4,
 "nbformat_minor": 2
}
