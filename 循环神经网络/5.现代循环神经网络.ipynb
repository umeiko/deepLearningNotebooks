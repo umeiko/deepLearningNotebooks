{
 "cells": [
  {
   "cell_type": "markdown",
   "metadata": {},
   "source": [
    "# 现代循环神经网络\n",
    " 首先，读取时间机器数据集"
   ]
  },
  {
   "cell_type": "code",
   "execution_count": 1,
   "metadata": {},
   "outputs": [],
   "source": [
    "import torch\n",
    "from torch import nn\n",
    "from torch.nn import functional as F\n",
    "import matplotlib.pyplot as plt\n",
    "from tqdm.notebook import tqdm\n",
    "import funcs\n",
    "\n",
    "\n",
    "batch_size, num_steps = 32, 35\n",
    "num_hiddens = 512\n",
    "device = \"cuda:0\"\n",
    "train_iter, vocab = funcs.load_data_time_machine(batch_size, num_steps)"
   ]
  },
  {
   "cell_type": "markdown",
   "metadata": {},
   "source": [
    "## 门控循环单元（GRU）\n",
    "### 从零开始实现"
   ]
  },
  {
   "cell_type": "markdown",
   "metadata": {},
   "source": [
    "重置门 $ R_t = \\sigma (X_t W_{xr} + H_{t-1}W_{hr}+b_r ) $\n",
    "\n",
    "更新门 $ Z_t = \\sigma (X_t W_{xz} + H_{t-1}W_{hz}+b_z ) $ \n",
    "\n",
    "候选隐状态 $ \\tilde{H_t} = tanh(X_{t}W_{xh} + (R_t \\odot H_{t-1}) W_{hh} + b_h ) $\n",
    "\n",
    "隐状态 $H_t = Z_t \\odot H_{t-1} + (1 - Z_t) \\odot \\tilde{H_t} $\n",
    "\n",
    "- 每当更新门 $Z_t$ 接近 $1$ 时，模型就倾向只保留旧状态。 此时，来自 $X_t$ 的信息基本上被忽略， 从而有效地跳过了依赖链条中的时间步 $t$ 。 相反，当 $Z_t$ 接近 $0$ 时， 新的隐状态 $H_t$ 就会接近候选隐状态 $\\tilde{H_t}$ 。"
   ]
  },
  {
   "cell_type": "code",
   "execution_count": 2,
   "metadata": {},
   "outputs": [],
   "source": [
    "# 获取初始参数：Wxr, Whr, br, Wxz, Whz, bz, Wxh, Whh, bh\n",
    "def get_gru_params(embed_size:int, num_hiddens:int, device:str):\n",
    "    \"\"\"获取GRU中的所有参数:\n",
    "    `W_xz, W_hz, b_z, W_xr, W_hr, b_r, W_xh, W_hh, b_h, W_hq, b_q`\n",
    "    \"\"\"\n",
    "    num_inputs = num_outputs = embed_size\n",
    "    def wwb():\n",
    "        return (torch.randn((num_inputs, num_hiddens), device=device)/100,\n",
    "                torch.randn((num_hiddens, num_hiddens), device=device)/100,\n",
    "                torch.zeros((num_hiddens), device=device),\n",
    "        )\n",
    "    W_xz, W_hz, b_z = wwb()\n",
    "    W_xr, W_hr, b_r = wwb()\n",
    "    W_xh, W_hh, b_h = wwb()\n",
    "    W_hq = torch.randn((num_hiddens, num_outputs), device=device)/100\n",
    "    b_q  = torch.zeros((num_outputs), device=device)\n",
    "    params = [W_xz, W_hz, b_z, W_xr, W_hr, b_r, W_xh, W_hh, b_h, W_hq, b_q]\n",
    "    for param in params:\n",
    "        param.requires_grad_(True)\n",
    "    return params\n",
    "\n",
    "def init_gru_state(batch_size, num_hiddens, device):\n",
    "    \"\"\" 初始化隐变量 \"\"\"\n",
    "    return torch.zeros((batch_size, num_hiddens), device=device)"
   ]
  },
  {
   "cell_type": "code",
   "execution_count": 3,
   "metadata": {},
   "outputs": [],
   "source": [
    "def gru_forward(inputs, state, params):\n",
    "    W_xz, W_hz, b_z, W_xr, W_hr, b_r, W_xh, W_hh, b_h, W_hq, b_q = params\n",
    "    H = state\n",
    "    outputs = []\n",
    "    for x in inputs:\n",
    "        Z = torch.sigmoid((x @ W_xz) + (H @ W_hz) + b_z)\n",
    "        R = torch.sigmoid((x @ W_xr) + (H @ W_hr) + b_r)\n",
    "        H_tilda = torch.tanh((x @ W_xh) + ((R * H) @ W_hh) + b_h )\n",
    "        H = Z * H + (1 - Z) * H_tilda\n",
    "        Y = H @ W_hq + b_q\n",
    "        outputs.append(Y)\n",
    "    return torch.cat(outputs, dim=0), H"
   ]
  },
  {
   "cell_type": "code",
   "execution_count": 4,
   "metadata": {},
   "outputs": [
    {
     "ename": "RuntimeError",
     "evalue": "mat1 and mat2 shapes cannot be multiplied (2x28 and 4598x512)",
     "output_type": "error",
     "traceback": [
      "\u001b[0;31m---------------------------------------------------------------------------\u001b[0m",
      "\u001b[0;31mRuntimeError\u001b[0m                              Traceback (most recent call last)",
      "\u001b[1;32m/home/server/WorkSpace/mzy/github_projects/deepLearningNotebooks/循环神经网络/5.现代循环神经网络.ipynb Cell 7\u001b[0m in \u001b[0;36m<cell line: 5>\u001b[0;34m()\u001b[0m\n\u001b[1;32m      <a href='vscode-notebook-cell://ssh-remote%2B192.168.1.101/home/server/WorkSpace/mzy/github_projects/deepLearningNotebooks/%E5%BE%AA%E7%8E%AF%E7%A5%9E%E7%BB%8F%E7%BD%91%E7%BB%9C/5.%E7%8E%B0%E4%BB%A3%E5%BE%AA%E7%8E%AF%E7%A5%9E%E7%BB%8F%E7%BD%91%E7%BB%9C.ipynb#W5sdnNjb2RlLXJlbW90ZQ%3D%3D?line=1'>2</a>\u001b[0m state \u001b[39m=\u001b[39m init_gru_state(\u001b[39m2\u001b[39m, num_hiddens, device)\n\u001b[1;32m      <a href='vscode-notebook-cell://ssh-remote%2B192.168.1.101/home/server/WorkSpace/mzy/github_projects/deepLearningNotebooks/%E5%BE%AA%E7%8E%AF%E7%A5%9E%E7%BB%8F%E7%BD%91%E7%BB%9C/5.%E7%8E%B0%E4%BB%A3%E5%BE%AA%E7%8E%AF%E7%A5%9E%E7%BB%8F%E7%BD%91%E7%BB%9C.ipynb#W5sdnNjb2RlLXJlbW90ZQ%3D%3D?line=2'>3</a>\u001b[0m x     \u001b[39m=\u001b[39m torch\u001b[39m.\u001b[39mones((\u001b[39m5\u001b[39m,\u001b[39m2\u001b[39m,\u001b[39m28\u001b[39m), device\u001b[39m=\u001b[39mdevice, dtype\u001b[39m=\u001b[39mtorch\u001b[39m.\u001b[39mfloat)\n\u001b[0;32m----> <a href='vscode-notebook-cell://ssh-remote%2B192.168.1.101/home/server/WorkSpace/mzy/github_projects/deepLearningNotebooks/%E5%BE%AA%E7%8E%AF%E7%A5%9E%E7%BB%8F%E7%BD%91%E7%BB%9C/5.%E7%8E%B0%E4%BB%A3%E5%BE%AA%E7%8E%AF%E7%A5%9E%E7%BB%8F%E7%BD%91%E7%BB%9C.ipynb#W5sdnNjb2RlLXJlbW90ZQ%3D%3D?line=4'>5</a>\u001b[0m y, state \u001b[39m=\u001b[39m gru_forward(x, state, para)\n\u001b[1;32m      <a href='vscode-notebook-cell://ssh-remote%2B192.168.1.101/home/server/WorkSpace/mzy/github_projects/deepLearningNotebooks/%E5%BE%AA%E7%8E%AF%E7%A5%9E%E7%BB%8F%E7%BD%91%E7%BB%9C/5.%E7%8E%B0%E4%BB%A3%E5%BE%AA%E7%8E%AF%E7%A5%9E%E7%BB%8F%E7%BD%91%E7%BB%9C.ipynb#W5sdnNjb2RlLXJlbW90ZQ%3D%3D?line=5'>6</a>\u001b[0m y\u001b[39m.\u001b[39mshape, state\u001b[39m.\u001b[39mshape\n",
      "\u001b[1;32m/home/server/WorkSpace/mzy/github_projects/deepLearningNotebooks/循环神经网络/5.现代循环神经网络.ipynb Cell 7\u001b[0m in \u001b[0;36mgru_forward\u001b[0;34m(inputs, state, params)\u001b[0m\n\u001b[1;32m      <a href='vscode-notebook-cell://ssh-remote%2B192.168.1.101/home/server/WorkSpace/mzy/github_projects/deepLearningNotebooks/%E5%BE%AA%E7%8E%AF%E7%A5%9E%E7%BB%8F%E7%BD%91%E7%BB%9C/5.%E7%8E%B0%E4%BB%A3%E5%BE%AA%E7%8E%AF%E7%A5%9E%E7%BB%8F%E7%BD%91%E7%BB%9C.ipynb#W5sdnNjb2RlLXJlbW90ZQ%3D%3D?line=3'>4</a>\u001b[0m outputs \u001b[39m=\u001b[39m []\n\u001b[1;32m      <a href='vscode-notebook-cell://ssh-remote%2B192.168.1.101/home/server/WorkSpace/mzy/github_projects/deepLearningNotebooks/%E5%BE%AA%E7%8E%AF%E7%A5%9E%E7%BB%8F%E7%BD%91%E7%BB%9C/5.%E7%8E%B0%E4%BB%A3%E5%BE%AA%E7%8E%AF%E7%A5%9E%E7%BB%8F%E7%BD%91%E7%BB%9C.ipynb#W5sdnNjb2RlLXJlbW90ZQ%3D%3D?line=4'>5</a>\u001b[0m \u001b[39mfor\u001b[39;00m x \u001b[39min\u001b[39;00m inputs:\n\u001b[0;32m----> <a href='vscode-notebook-cell://ssh-remote%2B192.168.1.101/home/server/WorkSpace/mzy/github_projects/deepLearningNotebooks/%E5%BE%AA%E7%8E%AF%E7%A5%9E%E7%BB%8F%E7%BD%91%E7%BB%9C/5.%E7%8E%B0%E4%BB%A3%E5%BE%AA%E7%8E%AF%E7%A5%9E%E7%BB%8F%E7%BD%91%E7%BB%9C.ipynb#W5sdnNjb2RlLXJlbW90ZQ%3D%3D?line=5'>6</a>\u001b[0m     Z \u001b[39m=\u001b[39m torch\u001b[39m.\u001b[39msigmoid((x \u001b[39m@\u001b[39;49m W_xz) \u001b[39m+\u001b[39m (H \u001b[39m@\u001b[39m W_hz) \u001b[39m+\u001b[39m b_z)\n\u001b[1;32m      <a href='vscode-notebook-cell://ssh-remote%2B192.168.1.101/home/server/WorkSpace/mzy/github_projects/deepLearningNotebooks/%E5%BE%AA%E7%8E%AF%E7%A5%9E%E7%BB%8F%E7%BD%91%E7%BB%9C/5.%E7%8E%B0%E4%BB%A3%E5%BE%AA%E7%8E%AF%E7%A5%9E%E7%BB%8F%E7%BD%91%E7%BB%9C.ipynb#W5sdnNjb2RlLXJlbW90ZQ%3D%3D?line=6'>7</a>\u001b[0m     R \u001b[39m=\u001b[39m torch\u001b[39m.\u001b[39msigmoid((x \u001b[39m@\u001b[39m W_xr) \u001b[39m+\u001b[39m (H \u001b[39m@\u001b[39m W_hr) \u001b[39m+\u001b[39m b_r)\n\u001b[1;32m      <a href='vscode-notebook-cell://ssh-remote%2B192.168.1.101/home/server/WorkSpace/mzy/github_projects/deepLearningNotebooks/%E5%BE%AA%E7%8E%AF%E7%A5%9E%E7%BB%8F%E7%BD%91%E7%BB%9C/5.%E7%8E%B0%E4%BB%A3%E5%BE%AA%E7%8E%AF%E7%A5%9E%E7%BB%8F%E7%BD%91%E7%BB%9C.ipynb#W5sdnNjb2RlLXJlbW90ZQ%3D%3D?line=7'>8</a>\u001b[0m     H_tilda \u001b[39m=\u001b[39m torch\u001b[39m.\u001b[39mtanh((x \u001b[39m@\u001b[39m W_xh) \u001b[39m+\u001b[39m ((R \u001b[39m*\u001b[39m H) \u001b[39m@\u001b[39m W_hh) \u001b[39m+\u001b[39m b_h )\n",
      "\u001b[0;31mRuntimeError\u001b[0m: mat1 and mat2 shapes cannot be multiplied (2x28 and 4598x512)"
     ]
    }
   ],
   "source": [
    "para  = get_gru_params(len(vocab), num_hiddens, device)\n",
    "state = init_gru_state(2, num_hiddens, device)\n",
    "x     = torch.ones((5,2,len(vocab)), device=device, dtype=torch.float)\n",
    "\n",
    "y, state = gru_forward(x, state, para)\n",
    "y.shape, state.shape"
   ]
  },
  {
   "cell_type": "code",
   "execution_count": 5,
   "metadata": {},
   "outputs": [
    {
     "data": {
      "text/plain": [
       "'time theirs anachronism expression scepticism ashamed novelty million ruins frames inflicted parent parent greyish failed framed abstractions branches blindness stretched fatigued avoided casting postal chain vegetation maddened instance turfy ceiling fascination method minds tattered crackling longing unsympathetic joint mild thousands shape shiver stare hectic tramps ferns emotions breeding bench connubial pile '"
      ]
     },
     "execution_count": 5,
     "metadata": {},
     "output_type": "execute_result"
    }
   ],
   "source": [
    "gru = funcs.RNN(\n",
    "    len(vocab), num_hiddens, device, get_gru_params, init_gru_state, gru_forward\n",
    ")\n",
    "funcs.rnn_predict(\"time \", 50, gru, vocab, device, True)"
   ]
  },
  {
   "cell_type": "code",
   "execution_count": 6,
   "metadata": {},
   "outputs": [
    {
     "data": {
      "application/vnd.jupyter.widget-view+json": {
       "model_id": "19bae54d8b40401d94715a6867d1f841",
       "version_major": 2,
       "version_minor": 0
      },
      "text/plain": [
       "  0%|          | 0/800 [00:00<?, ?it/s]"
      ]
     },
     "metadata": {},
     "output_type": "display_data"
    },
    {
     "name": "stdout",
     "output_type": "stream",
     "text": [
      "困惑度[1.15], 速度[16601.3 词元/秒], 设备[cuda:0]\n",
      "time traveller it would be remarkably convenient for the historian the psychologist suggested one might travel back and verify the accepted account of the battle of hastings for instance don t you think you would attract attention said the medical man our ancestors had no great tolerance for anachronisms one might get \n",
      "traveller holding the lamp aloft i intend to explore time is that plain i was never more serious in my life none of us quite knew how to take it i caught filby s eye over the shoulder of the medical man and he winked at me solemnly iii the time \n"
     ]
    },
    {
     "data": {
      "text/plain": [
       "<matplotlib.legend.Legend at 0x7ff601150a90>"
      ]
     },
     "execution_count": 6,
     "metadata": {},
     "output_type": "execute_result"
    },
    {
     "data": {
      "image/png": "[encoded data removed]",
      "text/plain": [
       "<Figure size 640x480 with 1 Axes>"
      ]
     },
     "metadata": {},
     "output_type": "display_data"
    }
   ],
   "source": [
    "num_epochs = 800\n",
    "num_hiddens = 1024\n",
    "lr = 5e-3\n",
    "gru = funcs.RNN(\n",
    "    len(vocab), num_hiddens, device, get_gru_params, init_gru_state, gru_forward\n",
    ")\n",
    "# opt = torch.optim.SGD(gru.parameters(), lr, momentum=0.9)\n",
    "opt = torch.optim.Adam(gru.parameters(), lr)\n",
    "ppls = funcs.train_rnn(gru, num_epochs, train_iter, opt, device, tqdm)\n",
    "pred_fn = lambda prefix: funcs.rnn_predict(prefix, 50, gru, vocab, device, True)\n",
    "print(pred_fn('time traveller'))\n",
    "print(pred_fn('traveller'))\n",
    "\n",
    "plt.xlabel(\"Epoch\")\n",
    "plt.ylabel(\"Perplexity\")\n",
    "plt.plot(ppls)\n",
    "plt.legend([\"train\"])"
   ]
  },
  {
   "cell_type": "markdown",
   "metadata": {},
   "source": [
    "### 使用高级API实现"
   ]
  },
  {
   "cell_type": "code",
   "execution_count": 22,
   "metadata": {},
   "outputs": [],
   "source": [
    "class RNN(nn.Module):\n",
    "    def __init__(self, layer:nn.RNN, device=\"cuda:1\"):\n",
    "        super().__init__()\n",
    "        self.device = device\n",
    "        self.layer = layer\n",
    "        self.out_layer = nn.Linear(layer.hidden_size, layer.input_size, device=device)\n",
    "    \n",
    "    def forward(self, x:torch.Tensor, state:torch.Tensor):\n",
    "        x = x.long().to(self.device)\n",
    "        x = F.one_hot(x, self.layer.input_size).to(torch.float)\n",
    "        y, state = self.layer(x, state)\n",
    "        # y:[t,b,embed]  ->  [t*b, embed]\n",
    "        out = self.out_layer(y.reshape((-1, self.layer.hidden_size)))\n",
    "        return out, state\n",
    "    \n",
    "    def begin_state(self, batch_size:int, device:str):\n",
    "        return torch.zeros((1, batch_size, self.layer.hidden_size), \n",
    "                            dtype=torch.float, device=device)\n",
    "        "
   ]
  },
  {
   "cell_type": "code",
   "execution_count": 17,
   "metadata": {},
   "outputs": [],
   "source": [
    "gru_layer = nn.GRU(len(vocab), num_hiddens, device=device)\n",
    "model = RNN(gru_layer, device=device)\n"
   ]
  },
  {
   "cell_type": "markdown",
   "metadata": {},
   "source": []
  }
 ],
 "metadata": {
  "kernelspec": {
   "display_name": "Python 3.10.0 ('py310')",
   "language": "python",
   "name": "python3"
  },
  "language_info": {
   "codemirror_mode": {
    "name": "ipython",
    "version": 3
   },
   "file_extension": ".py",
   "mimetype": "text/x-python",
   "name": "python",
   "nbconvert_exporter": "python",
   "pygments_lexer": "ipython3",
   "version": "3.10.0"
  },
  "orig_nbformat": 4,
  "vscode": {
   "interpreter": {
    "hash": "40d2cc74a804977258fca08641e7f8c71be122cbd2b1d46246183378bd8e471b"
   }
  }
 },
 "nbformat": 4,
 "nbformat_minor": 2
}
